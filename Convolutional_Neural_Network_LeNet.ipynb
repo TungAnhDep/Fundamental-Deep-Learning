{
  "cells": [
    {
      "cell_type": "markdown",
      "metadata": {
        "id": "view-in-github",
        "colab_type": "text"
      },
      "source": [
        "<a href=\"https://colab.research.google.com/github/TungAnhDep/Fundamental-Deep-Learning/blob/main/Convolutional_Neural_Network_LeNet.ipynb\" target=\"_parent\"><img src=\"https://colab.research.google.com/assets/colab-badge.svg\" alt=\"Open In Colab\"/></a>"
      ]
    },
    {
      "cell_type": "code",
      "source": [
        "pip install torchinfo"
      ],
      "metadata": {
        "colab": {
          "base_uri": "https://localhost:8080/"
        },
        "id": "XOKg1YaMWhN7",
        "outputId": "82054a28-03d8-412c-b5aa-6b1a4f20b61b"
      },
      "execution_count": null,
      "outputs": [
        {
          "output_type": "stream",
          "name": "stdout",
          "text": [
            "Collecting torchinfo\n",
            "  Downloading torchinfo-1.8.0-py3-none-any.whl.metadata (21 kB)\n",
            "Downloading torchinfo-1.8.0-py3-none-any.whl (23 kB)\n",
            "Installing collected packages: torchinfo\n",
            "Successfully installed torchinfo-1.8.0\n"
          ]
        }
      ]
    },
    {
      "cell_type": "code",
      "execution_count": null,
      "metadata": {
        "id": "T67N3Ea0E0fh"
      },
      "outputs": [],
      "source": [
        "import torch\n",
        "import torch.nn as nn\n",
        "import torchvision\n",
        "import torchvision.transforms as transforms\n",
        "from torch.utils.data import DataLoader\n",
        "from torch.optim import Adam\n",
        "from torchinfo import summary"
      ]
    },
    {
      "cell_type": "code",
      "execution_count": null,
      "metadata": {
        "id": "uWlf3gqSP_r0"
      },
      "outputs": [],
      "source": [
        "num_classes = 10\n",
        "lr = 0.001\n",
        "num_epochs = 25\n"
      ]
    },
    {
      "cell_type": "code",
      "execution_count": null,
      "metadata": {
        "id": "usUUR9Y7Gf2r"
      },
      "outputs": [],
      "source": [
        "\"\"\"\n",
        "Lenet5:\n",
        "5 layers: 2 convolutional, 3 fully-connected\n",
        "- Input: gray scale image 32x32\n",
        "- First convolutional:\n",
        "  + 6 Filters size 5x5 -> output 28x28x6, followed by an activation function\n",
        "  + Pooling -> 14x14x6\n",
        "  + 16 filters size 5x5, and a pooling layer -> output feature map 5x5x16\n",
        "- Second convolutional:\n",
        "  + 120 filters size 5x5\n",
        "-Flatten to 120 values\n",
        "-Dense layer 120 ->84\n",
        "-output dense layer 84 ->10\n",
        "\"\"\"\n",
        "class lenet5(nn.Module):\n",
        "  def __init__(self, num_classes):\n",
        "    super(lenet5, self).__init__()\n",
        "    self.layer1 = nn.Sequential(\n",
        "        nn.Conv2d(1, 6, kernel_size=5, stride=1, padding=0),\n",
        "        nn.BatchNorm2d(6),\n",
        "        nn.ReLU(),\n",
        "        nn.MaxPool2d(kernel_size = 2, stride = 2),\n",
        "    )\n",
        "    self.layer2 = nn.Sequential(\n",
        "                nn.Conv2d(6, 16, kernel_size=5, stride=1, padding=0),\n",
        "                nn.BatchNorm2d(16),\n",
        "                nn.ReLU(),\n",
        "                nn.MaxPool2d(kernel_size = 2, stride = 2)\n",
        "                )\n",
        "    self.fc = nn.Linear(400, 120)\n",
        "    self.relu = nn.ReLU()\n",
        "    self.fc1 = nn.Linear(120, 84)\n",
        "    self.relu1 = nn.ReLU()\n",
        "    self.fc2 = nn.Linear(84, num_classes)\n",
        "  def forward(self,x):\n",
        "    out = self.layer1(x) #batch_size,6, 14, 14\n",
        "    out = self.layer2(out) #batch_size, 16 , 5, 5\n",
        "    out = out.reshape(out.size(0), -1) #batch_size, 120\n",
        "\n",
        "    out = self.fc(out) #batch_size, 120\n",
        "    out = self.relu(out)\n",
        "    out = self.fc1(out) #batch_size, 84\n",
        "    out = self.relu1(out)\n",
        "    out = self.fc2(out) #batch_size, num_classes\n",
        "    return out\n"
      ]
    },
    {
      "cell_type": "code",
      "execution_count": null,
      "metadata": {
        "id": "OgCNG5q9Mghr",
        "colab": {
          "base_uri": "https://localhost:8080/"
        },
        "outputId": "b4e84a44-b68c-4703-951e-52e1094d22a3"
      },
      "outputs": [
        {
          "output_type": "stream",
          "name": "stderr",
          "text": [
            "100%|██████████| 9.91M/9.91M [00:00<00:00, 49.1MB/s]\n",
            "100%|██████████| 28.9k/28.9k [00:00<00:00, 1.71MB/s]\n",
            "100%|██████████| 1.65M/1.65M [00:00<00:00, 14.6MB/s]\n",
            "100%|██████████| 4.54k/4.54k [00:00<00:00, 1.60MB/s]\n"
          ]
        }
      ],
      "source": [
        "train_dataset = torchvision.datasets.MNIST(root = '.',\n",
        "                                               train = True,\n",
        "                                               transform = transforms.Compose([\n",
        "                                                      transforms.Resize((32,32)),\n",
        "                                                      transforms.ToTensor(),\n",
        "                                                      ]),\n",
        "                                               download = True)\n",
        "valid_dataset = torchvision.datasets.MNIST(root = '.',\n",
        "                                          train = False,\n",
        "                                          transform = transforms.Compose([\n",
        "                                              transforms.Resize((32,32)),\n",
        "                                              transforms.ToTensor(),\n",
        "\n",
        "                                          ]),\n",
        "                                          download = True)\n",
        "train_loader =  DataLoader(dataset = train_dataset, shuffle = True, batch_size = 32)\n",
        "train_n = len(train_loader.dataset)\n",
        "valid_loader = DataLoader(dataset = valid_dataset, batch_size = 32)\n",
        "valid_n = len(valid_loader.dataset)"
      ]
    },
    {
      "cell_type": "code",
      "execution_count": null,
      "metadata": {
        "id": "Ug9gVjVBPpTC"
      },
      "outputs": [],
      "source": [
        "device = torch.device('cuda' if torch.cuda.is_available() else 'cpu')"
      ]
    },
    {
      "cell_type": "code",
      "execution_count": null,
      "metadata": {
        "id": "b3bQ6vveP1Ay",
        "colab": {
          "base_uri": "https://localhost:8080/"
        },
        "outputId": "75b39b13-e0c0-41d5-c390-b9f68363a83d"
      },
      "outputs": [
        {
          "output_type": "execute_result",
          "data": {
            "text/plain": [
              "==========================================================================================\n",
              "Layer (type:depth-idx)                   Output Shape              Param #\n",
              "==========================================================================================\n",
              "OptimizedModule                          [32, 10]                  --\n",
              "├─lenet5: 1-1                            [32, 10]                  --\n",
              "│    └─Sequential: 2-1                   [32, 6, 14, 14]           --\n",
              "│    │    └─Conv2d: 3-1                  [32, 6, 28, 28]           156\n",
              "│    │    └─BatchNorm2d: 3-2             [32, 6, 28, 28]           12\n",
              "│    │    └─ReLU: 3-3                    [32, 6, 28, 28]           --\n",
              "│    │    └─MaxPool2d: 3-4               [32, 6, 14, 14]           --\n",
              "│    └─Sequential: 2-2                   [32, 16, 5, 5]            --\n",
              "│    │    └─Conv2d: 3-5                  [32, 16, 10, 10]          2,416\n",
              "│    │    └─BatchNorm2d: 3-6             [32, 16, 10, 10]          32\n",
              "│    │    └─ReLU: 3-7                    [32, 16, 10, 10]          --\n",
              "│    │    └─MaxPool2d: 3-8               [32, 16, 5, 5]            --\n",
              "│    └─Linear: 2-3                       [32, 120]                 48,120\n",
              "│    └─ReLU: 2-4                         [32, 120]                 --\n",
              "│    └─Linear: 2-5                       [32, 84]                  10,164\n",
              "│    └─ReLU: 2-6                         [32, 84]                  --\n",
              "│    └─Linear: 2-7                       [32, 10]                  850\n",
              "==========================================================================================\n",
              "Total params: 61,750\n",
              "Trainable params: 61,750\n",
              "Non-trainable params: 0\n",
              "Total mult-adds (Units.MEGABYTES): 13.54\n",
              "==========================================================================================\n",
              "Input size (MB): 0.13\n",
              "Forward/backward pass size (MB): 3.28\n",
              "Params size (MB): 0.25\n",
              "Estimated Total Size (MB): 3.66\n",
              "=========================================================================================="
            ]
          },
          "metadata": {},
          "execution_count": 11
        }
      ],
      "source": [
        "model = lenet5(num_classes).to(device)\n",
        "model = torch.compile(model)\n",
        "summary(model, (32,1,32,32))"
      ]
    },
    {
      "cell_type": "code",
      "execution_count": null,
      "metadata": {
        "id": "KUpkMsgCQvEY"
      },
      "outputs": [],
      "source": [
        "loss_function = nn.CrossEntropyLoss()\n",
        "optimizer = Adam(model.parameters())\n"
      ]
    },
    {
      "cell_type": "code",
      "execution_count": null,
      "metadata": {
        "id": "2BxOS52vRLpt"
      },
      "outputs": [],
      "source": [
        "def get_batch_accuracy(output, y, N):\n",
        "    pred = output.argmax(dim=1, keepdim=True)\n",
        "    correct = pred.eq(y.view_as(pred)).sum().item()\n",
        "    return correct / N"
      ]
    },
    {
      "cell_type": "code",
      "execution_count": null,
      "metadata": {
        "id": "xUqUZamCRAjL"
      },
      "outputs": [],
      "source": [
        "def validate():\n",
        "  loss = 0\n",
        "  accuracy = 0\n",
        "  model.eval()\n",
        "  with torch.no_grad():\n",
        "    for x,y in valid_loader:\n",
        "      output = model(x)\n",
        "      loss+= loss_function(output, y).item()\n",
        "      accuracy+=get_batch_accuracy(output, y, valid_n)\n",
        "  print('FIXME - Loss: {:.4f} Accuracy: {:.4f}'.format(loss, accuracy))"
      ]
    },
    {
      "cell_type": "code",
      "execution_count": null,
      "metadata": {
        "id": "pDxcpphiR41q"
      },
      "outputs": [],
      "source": [
        "def train():\n",
        "  loss = 0\n",
        "  accuracy = 0\n",
        "  model.train()\n",
        "  for x,y in train_loader:\n",
        "    output = model(x)\n",
        "    optimizer.zero_grad()\n",
        "    batch_loss = loss_function(output, y)\n",
        "    batch_loss.backward()\n",
        "    optimizer.step()\n",
        "    loss+=batch_loss.item()\n",
        "    accuracy+=get_batch_accuracy(output,y,train_n)\n",
        "  print('FIXME - Loss: {:.4f} Accuracy: {:.4f}'.format(loss, accuracy))"
      ]
    },
    {
      "cell_type": "code",
      "execution_count": null,
      "metadata": {
        "colab": {
          "base_uri": "https://localhost:8080/"
        },
        "id": "AgnlwsXoSpnq",
        "outputId": "4af7e67b-df44-4f2b-da34-c420d2f4c4fb"
      },
      "outputs": [
        {
          "output_type": "stream",
          "name": "stdout",
          "text": [
            "Epoch: 0\n"
          ]
        },
        {
          "output_type": "stream",
          "name": "stderr",
          "text": [
            "No CUDA runtime is found, using CUDA_HOME='/usr/local/cuda'\n"
          ]
        },
        {
          "output_type": "stream",
          "name": "stdout",
          "text": [
            "FIXME - Loss: 264.1369 Accuracy: 0.9584\n",
            "FIXME - Loss: 16.5472 Accuracy: 0.9815\n",
            "Epoch: 1\n",
            "FIXME - Loss: 101.2174 Accuracy: 0.9828\n",
            "FIXME - Loss: 13.6380 Accuracy: 0.9855\n",
            "Epoch: 2\n",
            "FIXME - Loss: 76.6353 Accuracy: 0.9871\n",
            "FIXME - Loss: 13.3434 Accuracy: 0.9854\n",
            "Epoch: 3\n",
            "FIXME - Loss: 66.5393 Accuracy: 0.9888\n",
            "FIXME - Loss: 12.7036 Accuracy: 0.9867\n",
            "Epoch: 4\n",
            "FIXME - Loss: 49.5454 Accuracy: 0.9915\n",
            "FIXME - Loss: 10.4950 Accuracy: 0.9899\n",
            "Epoch: 5\n",
            "FIXME - Loss: 46.1027 Accuracy: 0.9922\n",
            "FIXME - Loss: 11.3000 Accuracy: 0.9894\n",
            "Epoch: 6\n",
            "FIXME - Loss: 39.4881 Accuracy: 0.9935\n",
            "FIXME - Loss: 8.9014 Accuracy: 0.9907\n",
            "Epoch: 7\n",
            "FIXME - Loss: 33.2497 Accuracy: 0.9939\n",
            "FIXME - Loss: 10.5920 Accuracy: 0.9903\n",
            "Epoch: 8\n",
            "FIXME - Loss: 30.6454 Accuracy: 0.9949\n",
            "FIXME - Loss: 9.1860 Accuracy: 0.9913\n",
            "Epoch: 9\n",
            "FIXME - Loss: 29.0298 Accuracy: 0.9952\n",
            "FIXME - Loss: 10.5127 Accuracy: 0.9899\n",
            "Epoch: 10\n",
            "FIXME - Loss: 25.3604 Accuracy: 0.9955\n",
            "FIXME - Loss: 10.7375 Accuracy: 0.9906\n",
            "Epoch: 11\n",
            "FIXME - Loss: 21.9715 Accuracy: 0.9960\n",
            "FIXME - Loss: 12.5379 Accuracy: 0.9889\n",
            "Epoch: 12\n",
            "FIXME - Loss: 19.7871 Accuracy: 0.9966\n",
            "FIXME - Loss: 10.9728 Accuracy: 0.9916\n",
            "Epoch: 13\n",
            "FIXME - Loss: 19.5815 Accuracy: 0.9968\n",
            "FIXME - Loss: 10.6641 Accuracy: 0.9913\n",
            "Epoch: 14\n",
            "FIXME - Loss: 16.5847 Accuracy: 0.9972\n",
            "FIXME - Loss: 10.9758 Accuracy: 0.9920\n",
            "Epoch: 15\n",
            "FIXME - Loss: 15.5920 Accuracy: 0.9972\n",
            "FIXME - Loss: 11.6325 Accuracy: 0.9916\n",
            "Epoch: 16\n",
            "FIXME - Loss: 13.7373 Accuracy: 0.9977\n",
            "FIXME - Loss: 13.2236 Accuracy: 0.9899\n",
            "Epoch: 17\n",
            "FIXME - Loss: 15.5636 Accuracy: 0.9974\n",
            "FIXME - Loss: 10.5413 Accuracy: 0.9920\n",
            "Epoch: 18\n",
            "FIXME - Loss: 13.5056 Accuracy: 0.9977\n",
            "FIXME - Loss: 16.1294 Accuracy: 0.9899\n",
            "Epoch: 19\n",
            "FIXME - Loss: 12.2398 Accuracy: 0.9979\n",
            "FIXME - Loss: 10.5739 Accuracy: 0.9921\n",
            "Epoch: 20\n",
            "FIXME - Loss: 11.1207 Accuracy: 0.9983\n",
            "FIXME - Loss: 13.3477 Accuracy: 0.9910\n",
            "Epoch: 21\n",
            "FIXME - Loss: 10.2321 Accuracy: 0.9983\n",
            "FIXME - Loss: 15.3640 Accuracy: 0.9905\n",
            "Epoch: 22\n",
            "FIXME - Loss: 12.9016 Accuracy: 0.9978\n",
            "FIXME - Loss: 18.3121 Accuracy: 0.9890\n",
            "Epoch: 23\n",
            "FIXME - Loss: 10.0412 Accuracy: 0.9984\n",
            "FIXME - Loss: 12.2566 Accuracy: 0.9919\n",
            "Epoch: 24\n",
            "FIXME - Loss: 9.4379 Accuracy: 0.9985\n",
            "FIXME - Loss: 10.6649 Accuracy: 0.9924\n"
          ]
        }
      ],
      "source": [
        "for epoch in range (num_epochs):\n",
        "  print('Epoch: {}'.format(epoch))\n",
        "  train()\n",
        "  validate()"
      ]
    }
  ],
  "metadata": {
    "colab": {
      "provenance": [],
      "authorship_tag": "ABX9TyM5MyUVGynEOC7mvBZ9lPfm",
      "include_colab_link": true
    },
    "kernelspec": {
      "display_name": "Python 3",
      "name": "python3"
    },
    "language_info": {
      "name": "python"
    }
  },
  "nbformat": 4,
  "nbformat_minor": 0
}