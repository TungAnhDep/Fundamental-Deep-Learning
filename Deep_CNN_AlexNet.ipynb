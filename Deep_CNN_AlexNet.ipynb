{
  "cells": [
    {
      "cell_type": "markdown",
      "metadata": {
        "id": "view-in-github",
        "colab_type": "text"
      },
      "source": [
        "<a href=\"https://colab.research.google.com/github/TungAnhDep/Fundamental-Deep-Learning/blob/main/Deep_CNN_AlexNet.ipynb\" target=\"_parent\"><img src=\"https://colab.research.google.com/assets/colab-badge.svg\" alt=\"Open In Colab\"/></a>"
      ]
    },
    {
      "cell_type": "code",
      "execution_count": null,
      "metadata": {
        "id": "M0_rejkjYr0i"
      },
      "outputs": [],
      "source": [
        "import torch\n",
        "from torch import nn\n",
        "from torch.optim import Adam\n",
        "from torch.utils.data import DataLoader\n",
        "import torchvision\n",
        "from torchvision import datasets, transforms\n",
        "\n",
        "from torchsummary import summary"
      ]
    },
    {
      "cell_type": "code",
      "execution_count": null,
      "metadata": {
        "id": "3e0qgqxNZTrA"
      },
      "outputs": [],
      "source": [
        "class AlexNet(nn.Module):\n",
        "  def __init__(self, num_class):\n",
        "    super(AlexNet, self).__init__()\n",
        "    self.layer1 = nn.Sequential(\n",
        "        nn.Conv2d(3, 96, kernel_size = 11, stride = 4, padding = 0),\n",
        "        nn.BatchNorm2d(96),\n",
        "        nn.ReLU(),\n",
        "        nn.MaxPool2d(kernel_size = 3, stride = 2)\n",
        "    )\n",
        "    self.layer2= nn.Sequential(\n",
        "        nn.Conv2d(96, 256, kernel_size = 5, stride = 1, padding =2),\n",
        "        nn.BatchNorm2d(256),\n",
        "        nn.ReLU(),\n",
        "        nn.MaxPool2d(kernel_size =3, stride =2)\n",
        "    )\n",
        "    self.layer3 = nn.Sequential(\n",
        "        nn.Conv2d(256, 384, kernel_size =3, stride =1, padding =1),\n",
        "        nn.BatchNorm2d(384),\n",
        "        nn.ReLU()\n",
        "    )\n",
        "    #Tai sao khong dung MaxPooling\n",
        "    self.layer4 = nn.Sequential(\n",
        "        nn.Conv2d(384, 384, kernel_size =3, stride =1, padding =1),\n",
        "        nn.BatchNorm2d(384),\n",
        "        nn.ReLU()\n",
        "    )\n",
        "    self.layer5 = nn.Sequential(\n",
        "        nn.Conv2d(384, 256, kernel_size = 3, stride = 1, padding =1),\n",
        "        nn.BatchNorm2d(256),\n",
        "        nn.ReLU(),\n",
        "        nn.MaxPool2d(kernel_size = 3, stride = 2)\n",
        "    )\n",
        "    self.linear1 = nn.Linear(256*5*5, 4096)\n",
        "    self.linear2 = nn.Linear(4096, 4096)\n",
        "    self.linear3 = nn.Linear(4096, num_class)\n",
        "    self.dropout = nn.Dropout(0.5)\n",
        "    self.flatten = nn.Flatten()\n",
        "    self.relu = nn.ReLU()\n",
        "  def forward(self,x):\n",
        "    out = self.layer1(x)\n",
        "    out = self.layer2(out)\n",
        "    out = self.layer3(out)\n",
        "    out = self.layer4(out)\n",
        "    out = self.layer5(out)\n",
        "    out = self.flatten(out)\n",
        "    out = self.linear1(out)\n",
        "    out = self.relu(out)\n",
        "    out = self.dropout(out)\n",
        "    out = self.linear2(out)\n",
        "    out = self.relu(out)\n",
        "    out = self.dropout(out)\n",
        "    out = self.linear3(out)\n",
        "    return out"
      ]
    },
    {
      "cell_type": "code",
      "execution_count": null,
      "metadata": {
        "id": "qREHOfdKbKab",
        "colab": {
          "base_uri": "https://localhost:8080/"
        },
        "outputId": "fde9fad8-f5bf-4289-e639-858e1583ef79"
      },
      "outputs": [
        {
          "output_type": "stream",
          "name": "stderr",
          "text": [
            "100%|██████████| 170M/170M [00:13<00:00, 12.7MB/s]\n"
          ]
        }
      ],
      "source": [
        "train_dataset = datasets.CIFAR10(root = '.', train = True, download = True, transform = transforms.Compose(\n",
        "    [\n",
        "      transforms.Resize((224, 224)),\n",
        "\n",
        "      transforms.ToTensor(),\n",
        "\n",
        "    ]\n",
        "))\n",
        "valid_dataset = datasets.CIFAR10(root = '.', train = False, download = True, transform = transforms.Compose([\n",
        "    transforms.Resize((224,224)),\n",
        "\n",
        "    transforms.ToTensor(),\n",
        "\n",
        "]))\n",
        "train_loader = DataLoader(train_dataset, batch_size = 64, shuffle = True)\n",
        "valid_loader = DataLoader(valid_dataset, batch_size = 64)\n"
      ]
    },
    {
      "cell_type": "code",
      "execution_count": null,
      "metadata": {
        "colab": {
          "base_uri": "https://localhost:8080/"
        },
        "id": "wUrVAJ3HdcK2",
        "outputId": "029f14c7-b613-4743-b734-5ae3d7cdb78e"
      },
      "outputs": [
        {
          "output_type": "execute_result",
          "data": {
            "text/plain": [
              "50000"
            ]
          },
          "metadata": {},
          "execution_count": 4
        }
      ],
      "source": [
        "train_N = len(train_loader.dataset)\n",
        "valid_N = len(valid_loader.dataset)\n",
        "train_N"
      ]
    },
    {
      "cell_type": "code",
      "source": [
        "train_dataset[0][0].shape"
      ],
      "metadata": {
        "colab": {
          "base_uri": "https://localhost:8080/"
        },
        "id": "k9V6-UMDvvoD",
        "outputId": "97fecb43-44f6-4ac7-d24b-dd47d3c88511"
      },
      "execution_count": null,
      "outputs": [
        {
          "output_type": "execute_result",
          "data": {
            "text/plain": [
              "torch.Size([3, 224, 224])"
            ]
          },
          "metadata": {},
          "execution_count": 6
        }
      ]
    },
    {
      "cell_type": "code",
      "source": [
        "train_dataset[0][0]"
      ],
      "metadata": {
        "colab": {
          "base_uri": "https://localhost:8080/"
        },
        "id": "ukACjKxRwI1i",
        "outputId": "d81c7dee-69a1-4e0d-8965-798d4b360999"
      },
      "execution_count": null,
      "outputs": [
        {
          "output_type": "execute_result",
          "data": {
            "text/plain": [
              "tensor([[[0.2314, 0.2314, 0.2314,  ..., 0.5804, 0.5804, 0.5804],\n",
              "         [0.2314, 0.2314, 0.2314,  ..., 0.5804, 0.5804, 0.5804],\n",
              "         [0.2314, 0.2314, 0.2314,  ..., 0.5804, 0.5804, 0.5804],\n",
              "         ...,\n",
              "         [0.6941, 0.6941, 0.6941,  ..., 0.4824, 0.4824, 0.4824],\n",
              "         [0.6941, 0.6941, 0.6941,  ..., 0.4824, 0.4824, 0.4824],\n",
              "         [0.6941, 0.6941, 0.6941,  ..., 0.4824, 0.4824, 0.4824]],\n",
              "\n",
              "        [[0.2431, 0.2431, 0.2431,  ..., 0.4863, 0.4863, 0.4863],\n",
              "         [0.2431, 0.2431, 0.2431,  ..., 0.4863, 0.4863, 0.4863],\n",
              "         [0.2431, 0.2431, 0.2431,  ..., 0.4863, 0.4863, 0.4863],\n",
              "         ...,\n",
              "         [0.5647, 0.5647, 0.5647,  ..., 0.3608, 0.3608, 0.3608],\n",
              "         [0.5647, 0.5647, 0.5647,  ..., 0.3608, 0.3608, 0.3608],\n",
              "         [0.5647, 0.5647, 0.5647,  ..., 0.3608, 0.3608, 0.3608]],\n",
              "\n",
              "        [[0.2471, 0.2471, 0.2471,  ..., 0.4039, 0.4039, 0.4039],\n",
              "         [0.2471, 0.2471, 0.2471,  ..., 0.4039, 0.4039, 0.4039],\n",
              "         [0.2471, 0.2471, 0.2471,  ..., 0.4039, 0.4039, 0.4039],\n",
              "         ...,\n",
              "         [0.4549, 0.4549, 0.4549,  ..., 0.2824, 0.2824, 0.2824],\n",
              "         [0.4549, 0.4549, 0.4549,  ..., 0.2824, 0.2824, 0.2824],\n",
              "         [0.4549, 0.4549, 0.4549,  ..., 0.2824, 0.2824, 0.2824]]])"
            ]
          },
          "metadata": {},
          "execution_count": 9
        }
      ]
    },
    {
      "cell_type": "code",
      "execution_count": null,
      "metadata": {
        "colab": {
          "base_uri": "https://localhost:8080/"
        },
        "id": "zFYi37c8eXLd",
        "outputId": "2c6cfca2-ad58-43e2-d43c-a43f77fae3cd"
      },
      "outputs": [
        {
          "output_type": "stream",
          "name": "stdout",
          "text": [
            "cuda\n",
            "----------------------------------------------------------------\n",
            "        Layer (type)               Output Shape         Param #\n",
            "================================================================\n",
            "            Conv2d-1           [-1, 96, 54, 54]          34,944\n",
            "       BatchNorm2d-2           [-1, 96, 54, 54]             192\n",
            "              ReLU-3           [-1, 96, 54, 54]               0\n",
            "         MaxPool2d-4           [-1, 96, 26, 26]               0\n",
            "            Conv2d-5          [-1, 256, 26, 26]         614,656\n",
            "       BatchNorm2d-6          [-1, 256, 26, 26]             512\n",
            "              ReLU-7          [-1, 256, 26, 26]               0\n",
            "         MaxPool2d-8          [-1, 256, 12, 12]               0\n",
            "            Conv2d-9          [-1, 384, 12, 12]         885,120\n",
            "      BatchNorm2d-10          [-1, 384, 12, 12]             768\n",
            "             ReLU-11          [-1, 384, 12, 12]               0\n",
            "           Conv2d-12          [-1, 384, 12, 12]       1,327,488\n",
            "      BatchNorm2d-13          [-1, 384, 12, 12]             768\n",
            "             ReLU-14          [-1, 384, 12, 12]               0\n",
            "           Conv2d-15          [-1, 256, 12, 12]         884,992\n",
            "      BatchNorm2d-16          [-1, 256, 12, 12]             512\n",
            "             ReLU-17          [-1, 256, 12, 12]               0\n",
            "        MaxPool2d-18            [-1, 256, 5, 5]               0\n",
            "          Flatten-19                 [-1, 6400]               0\n",
            "           Linear-20                 [-1, 4096]      26,218,496\n",
            "             ReLU-21                 [-1, 4096]               0\n",
            "          Dropout-22                 [-1, 4096]               0\n",
            "           Linear-23                 [-1, 4096]      16,781,312\n",
            "             ReLU-24                 [-1, 4096]               0\n",
            "          Dropout-25                 [-1, 4096]               0\n",
            "           Linear-26                   [-1, 10]          40,970\n",
            "================================================================\n",
            "Total params: 46,790,730\n",
            "Trainable params: 46,790,730\n",
            "Non-trainable params: 0\n",
            "----------------------------------------------------------------\n",
            "Input size (MB): 0.57\n",
            "Forward/backward pass size (MB): 14.80\n",
            "Params size (MB): 178.49\n",
            "Estimated Total Size (MB): 193.87\n",
            "----------------------------------------------------------------\n"
          ]
        }
      ],
      "source": [
        "device = 'cuda' if torch.cuda.is_available() else 'cpu'\n",
        "print(device)\n",
        "model = AlexNet(num_class = 10).to(device)\n",
        "summary(model, (3, 224, 224))"
      ]
    },
    {
      "cell_type": "code",
      "execution_count": null,
      "metadata": {
        "colab": {
          "base_uri": "https://localhost:8080/"
        },
        "id": "QMFeVeuzfYIh",
        "outputId": "2e6f600e-dab1-4c31-af90-a26ed4002356"
      },
      "outputs": [
        {
          "output_type": "execute_result",
          "data": {
            "text/plain": [
              "OptimizedModule(\n",
              "  (_orig_mod): AlexNet(\n",
              "    (layer1): Sequential(\n",
              "      (0): Conv2d(3, 96, kernel_size=(11, 11), stride=(4, 4))\n",
              "      (1): BatchNorm2d(96, eps=1e-05, momentum=0.1, affine=True, track_running_stats=True)\n",
              "      (2): ReLU()\n",
              "      (3): MaxPool2d(kernel_size=3, stride=2, padding=0, dilation=1, ceil_mode=False)\n",
              "    )\n",
              "    (layer2): Sequential(\n",
              "      (0): Conv2d(96, 256, kernel_size=(5, 5), stride=(1, 1), padding=(2, 2))\n",
              "      (1): BatchNorm2d(256, eps=1e-05, momentum=0.1, affine=True, track_running_stats=True)\n",
              "      (2): ReLU()\n",
              "      (3): MaxPool2d(kernel_size=3, stride=2, padding=0, dilation=1, ceil_mode=False)\n",
              "    )\n",
              "    (layer3): Sequential(\n",
              "      (0): Conv2d(256, 384, kernel_size=(3, 3), stride=(1, 1), padding=(1, 1))\n",
              "      (1): BatchNorm2d(384, eps=1e-05, momentum=0.1, affine=True, track_running_stats=True)\n",
              "      (2): ReLU()\n",
              "    )\n",
              "    (layer4): Sequential(\n",
              "      (0): Conv2d(384, 384, kernel_size=(3, 3), stride=(1, 1), padding=(1, 1))\n",
              "      (1): BatchNorm2d(384, eps=1e-05, momentum=0.1, affine=True, track_running_stats=True)\n",
              "      (2): ReLU()\n",
              "    )\n",
              "    (layer5): Sequential(\n",
              "      (0): Conv2d(384, 256, kernel_size=(3, 3), stride=(1, 1), padding=(1, 1))\n",
              "      (1): BatchNorm2d(256, eps=1e-05, momentum=0.1, affine=True, track_running_stats=True)\n",
              "      (2): ReLU()\n",
              "      (3): MaxPool2d(kernel_size=3, stride=2, padding=0, dilation=1, ceil_mode=False)\n",
              "    )\n",
              "    (linear1): Linear(in_features=6400, out_features=4096, bias=True)\n",
              "    (linear2): Linear(in_features=4096, out_features=4096, bias=True)\n",
              "    (linear3): Linear(in_features=4096, out_features=10, bias=True)\n",
              "    (dropout): Dropout(p=0.5, inplace=False)\n",
              "    (flatten): Flatten(start_dim=1, end_dim=-1)\n",
              "    (relu): ReLU()\n",
              "  )\n",
              ")"
            ]
          },
          "metadata": {},
          "execution_count": 13
        }
      ],
      "source": [
        "model = torch.compile(model.to(device))\n",
        "model"
      ]
    },
    {
      "cell_type": "code",
      "execution_count": null,
      "metadata": {
        "id": "5en6Rs2cfflf"
      },
      "outputs": [],
      "source": [
        "optimizer = Adam(model.parameters(), lr = 1e-3)\n",
        "loss_function = nn.CrossEntropyLoss()"
      ]
    },
    {
      "cell_type": "code",
      "execution_count": null,
      "metadata": {
        "id": "Z6FyxdINfqwR"
      },
      "outputs": [],
      "source": [
        "def get_batch_accuracy(output, y, N):\n",
        "    pred = output.argmax(dim=1, keepdim=True)\n",
        "    correct = pred.eq(y.view_as(pred)).sum().item()\n",
        "    return correct / N"
      ]
    },
    {
      "cell_type": "code",
      "execution_count": null,
      "metadata": {
        "id": "HwaGN0K0fw6J"
      },
      "outputs": [],
      "source": [
        "def train():\n",
        "  loss = 0\n",
        "  accuracy = 0\n",
        "  model.train()\n",
        "  for x,y in train_loader:\n",
        "    x,y = x.to(device), y.to(device)\n",
        "    output = model(x)\n",
        "    optimizer.zero_grad()\n",
        "    batch_loss= loss_function(output, y)\n",
        "    batch_loss.backward()\n",
        "    optimizer.step()\n",
        "    loss+=batch_loss.item()\n",
        "    accuracy+=get_batch_accuracy(output, y, train_N)\n",
        "  print('Training Loss: {:.4f} Accuracy: {:.4f}'.format(loss, accuracy))\n"
      ]
    },
    {
      "cell_type": "code",
      "execution_count": null,
      "metadata": {
        "id": "ay5nYNCAmZcC"
      },
      "outputs": [],
      "source": [
        "def evaluate():\n",
        "  loss = 0\n",
        "  accuracy = 0\n",
        "  model.eval()\n",
        "  with torch.no_grad():\n",
        "    for x,y in valid_loader:\n",
        "      x,y = x.to(device), y.to(device)\n",
        "      output = model(x)\n",
        "      batch_loss = loss_function(output,y)\n",
        "      loss+=batch_loss.item()\n",
        "      accuracy+=get_batch_accuracy(output,y,valid_N)\n",
        "    print('Evaluation Loss: {:.4f} Accuracy: {:.4f}'.format(loss, accuracy))"
      ]
    },
    {
      "cell_type": "code",
      "execution_count": null,
      "metadata": {
        "colab": {
          "base_uri": "https://localhost:8080/"
        },
        "id": "mLmzUcvBm1hz",
        "outputId": "ac076958-6e2c-431b-96a8-edab3da05f47"
      },
      "outputs": [
        {
          "output_type": "stream",
          "name": "stdout",
          "text": [
            "Epoch: 0\n"
          ]
        },
        {
          "output_type": "stream",
          "name": "stderr",
          "text": [
            "W0426 01:41:45.406000 251 torch/_inductor/utils.py:1137] [0/0] Not enough SMs to use max_autotune_gemm mode\n"
          ]
        },
        {
          "output_type": "stream",
          "name": "stdout",
          "text": [
            "Training Loss: 1482.1797 Accuracy: 0.3232\n",
            "Evaluation Loss: 256.6658 Accuracy: 0.4195\n",
            "Epoch: 1\n",
            "Training Loss: 1119.9465 Accuracy: 0.4793\n",
            "Evaluation Loss: 219.0167 Accuracy: 0.4993\n",
            "Epoch: 2\n",
            "Training Loss: 930.9122 Accuracy: 0.5791\n",
            "Evaluation Loss: 197.8422 Accuracy: 0.5579\n",
            "Epoch: 3\n",
            "Training Loss: 796.6260 Accuracy: 0.6453\n",
            "Evaluation Loss: 160.2325 Accuracy: 0.6479\n",
            "Epoch: 4\n",
            "Training Loss: 686.7044 Accuracy: 0.6993\n",
            "Evaluation Loss: 154.5816 Accuracy: 0.6669\n",
            "Epoch: 5\n",
            "Training Loss: 602.1230 Accuracy: 0.7374\n",
            "Evaluation Loss: 117.6051 Accuracy: 0.7523\n",
            "Epoch: 6\n",
            "Training Loss: 524.2050 Accuracy: 0.7726\n",
            "Evaluation Loss: 117.6440 Accuracy: 0.7438\n",
            "Epoch: 7\n",
            "Training Loss: 465.1837 Accuracy: 0.7990\n",
            "Evaluation Loss: 136.5983 Accuracy: 0.7135\n",
            "Epoch: 8\n",
            "Training Loss: 415.6342 Accuracy: 0.8208\n",
            "Evaluation Loss: 103.9239 Accuracy: 0.7780\n",
            "Epoch: 9\n",
            "Training Loss: 370.4234 Accuracy: 0.8426\n",
            "Evaluation Loss: 108.8880 Accuracy: 0.7685\n"
          ]
        }
      ],
      "source": [
        "epochs = 10\n",
        "for epoch in range (epochs):\n",
        "  print('Epoch: {}'.format(epoch+1))\n",
        "  train()\n",
        "  evaluate()"
      ]
    },
    {
      "cell_type": "code",
      "source": [
        "prediction = model(valid_dataset[0][0].unsqueeze(0).to(device))\n",
        "prediction.argmax()"
      ],
      "metadata": {
        "colab": {
          "base_uri": "https://localhost:8080/"
        },
        "id": "xxPtNIQXwuey",
        "outputId": "fc57b97a-7dc9-4a41-e9e9-90309598465a"
      },
      "execution_count": null,
      "outputs": [
        {
          "output_type": "execute_result",
          "data": {
            "text/plain": [
              "tensor(3, device='cuda:0')"
            ]
          },
          "metadata": {},
          "execution_count": 23
        }
      ]
    },
    {
      "cell_type": "code",
      "source": [
        "valid_dataset[0][1]"
      ],
      "metadata": {
        "colab": {
          "base_uri": "https://localhost:8080/"
        },
        "id": "yEncIQpo3Sti",
        "outputId": "f8cc6ef6-b795-4549-b38c-a85e0f6d95f2"
      },
      "execution_count": null,
      "outputs": [
        {
          "output_type": "execute_result",
          "data": {
            "text/plain": [
              "3"
            ]
          },
          "metadata": {},
          "execution_count": 25
        }
      ]
    }
  ],
  "metadata": {
    "colab": {
      "provenance": [],
      "gpuType": "T4",
      "authorship_tag": "ABX9TyOZOwwMaaCVw8LwT81uTHaD",
      "include_colab_link": true
    },
    "kernelspec": {
      "display_name": "Python 3",
      "name": "python3"
    },
    "language_info": {
      "name": "python"
    },
    "accelerator": "GPU"
  },
  "nbformat": 4,
  "nbformat_minor": 0
}