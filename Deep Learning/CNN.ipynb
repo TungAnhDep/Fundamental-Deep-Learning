{
  "cells": [
    {
      "cell_type": "markdown",
      "metadata": {
        "id": "view-in-github",
        "colab_type": "text"
      },
      "source": [
        "<a href=\"https://colab.research.google.com/github/TungAnhDep/Fundamental-Deep-Learning/blob/main/CNN.ipynb\" target=\"_parent\"><img src=\"https://colab.research.google.com/assets/colab-badge.svg\" alt=\"Open In Colab\"/></a>"
      ]
    },
    {
      "cell_type": "code",
      "execution_count": null,
      "metadata": {
        "id": "C-zlmlQTR73o"
      },
      "outputs": [],
      "source": [
        "#Target: Develop a simple CNN\n"
      ]
    },
    {
      "cell_type": "code",
      "execution_count": null,
      "metadata": {
        "colab": {
          "background_save": true
        },
        "id": "YWGsyItCSSY5"
      },
      "outputs": [],
      "source": [
        "import torch\n",
        "import torch.nn as nn\n",
        "from torch.optim import Adam\n",
        "from torch.utils.data import DataLoader\n",
        "import numpy as np\n",
        "import pandas as pd\n",
        "import matplotlib.pyplot as plt\n",
        "import torchvision\n",
        "from torchvision import transforms, datasets"
      ]
    },
    {
      "cell_type": "code",
      "execution_count": null,
      "metadata": {
        "colab": {
          "background_save": true,
          "base_uri": "https://localhost:8080/"
        },
        "id": "JYU7uOYdS9Gr",
        "outputId": "bec70415-9cfb-4d31-b8f2-530436e2ed50"
      },
      "outputs": [
        {
          "data": {
            "text/plain": [
              "False"
            ]
          },
          "execution_count": 3,
          "metadata": {},
          "output_type": "execute_result"
        }
      ],
      "source": [
        "device = torch.device(\"cuda\" if torch.cuda.is_available() else \"cpu\")\n",
        "torch.cuda.is_available()"
      ]
    },
    {
      "cell_type": "code",
      "execution_count": null,
      "metadata": {
        "colab": {
          "background_save": true,
          "base_uri": "https://localhost:8080/"
        },
        "id": "nJmhHb3qS_fQ",
        "outputId": "483d0d6f-16ed-41f7-9af8-a78f396ed0c7"
      },
      "outputs": [
        {
          "name": "stderr",
          "output_type": "stream",
          "text": [
            "100%|██████████| 9.91M/9.91M [00:00<00:00, 15.9MB/s]\n",
            "100%|██████████| 28.9k/28.9k [00:00<00:00, 482kB/s]\n",
            "100%|██████████| 1.65M/1.65M [00:00<00:00, 4.44MB/s]\n",
            "100%|██████████| 4.54k/4.54k [00:00<00:00, 4.83MB/s]\n"
          ]
        }
      ],
      "source": [
        "#Prepare Dataset:\n",
        "train_dataset = datasets.MNIST(root='.', train = True, download = True, transform = transforms.Compose([transforms.ToTensor()]))\n",
        "valid_dataset = datasets.MNIST(root='.', train = False, download = True, transform = transforms.Compose([transforms.ToTensor()]))\n",
        "\n",
        "train_loader = DataLoader(train_dataset, batch_size =64, shuffle = True)\n",
        "valid_loader = DataLoader(valid_dataset, batch_size = 64)"
      ]
    },
    {
      "cell_type": "code",
      "execution_count": null,
      "metadata": {
        "colab": {
          "background_save": true
        },
        "id": "ku6tST0xVRsP"
      },
      "outputs": [],
      "source": [
        "img_channel, img_height, img_width = train_dataset[0][0].shape\n",
        "num_classes = len(train_dataset.classes)"
      ]
    },
    {
      "cell_type": "code",
      "execution_count": null,
      "metadata": {
        "colab": {
          "background_save": true,
          "base_uri": "https://localhost:8080/"
        },
        "id": "PKHHjzyHVYjV",
        "outputId": "648dccbf-cfdf-49fe-ea05-abca0e65a05d"
      },
      "outputs": [
        {
          "name": "stdout",
          "output_type": "stream",
          "text": [
            "1\n"
          ]
        }
      ],
      "source": [
        "print(img_channel)"
      ]
    },
    {
      "cell_type": "code",
      "execution_count": null,
      "metadata": {
        "colab": {
          "background_save": true
        },
        "id": "fHUB8FIyVBdg"
      },
      "outputs": [],
      "source": [
        "model = nn.Sequential(\n",
        "    nn.Conv2d(1, 25, kernel_size=3, stride =1, padding=1), #25x28x28\n",
        "    nn.BatchNorm2d(25),\n",
        "    nn.ReLU(),\n",
        "    nn.MaxPool2d(kernel_size=2, stride =2), #25x14x14\n",
        "    nn.Conv2d(25,50, kernel_size=3, stride=1, padding=1),#50x14x14\n",
        "    nn.BatchNorm2d(50),\n",
        "    nn.ReLU(),\n",
        "    nn.Dropout(0.2),\n",
        "    nn.MaxPool2d(kernel_size=2, stride =2),#50x7x7\n",
        "    nn.Conv2d(50,75,kernel_size=3, stride=1, padding=1),#75x7x7\n",
        "    nn.BatchNorm2d(75),\n",
        "    nn.ReLU(),\n",
        "    nn.MaxPool2d(kernel_size=2, stride=2),#75x3x3\n",
        "    nn.Flatten(),\n",
        "    nn.Linear(75*3*3, 512),\n",
        "    nn.ReLU(),\n",
        "    nn.Linear(512,num_classes)\n",
        "\n",
        ")"
      ]
    },
    {
      "cell_type": "markdown",
      "metadata": {
        "id": "gONUM7oWU41w"
      },
      "source": [
        "![cnn.png](data:image/png;base64,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)"
      ]
    },
    {
      "cell_type": "code",
      "execution_count": null,
      "metadata": {
        "colab": {
          "background_save": true,
          "base_uri": "https://localhost:8080/"
        },
        "id": "-CwZ9SUiXcSI",
        "outputId": "cb62c26f-2035-4558-962b-97602d013763"
      },
      "outputs": [
        {
          "data": {
            "text/plain": [
              "OptimizedModule(\n",
              "  (_orig_mod): Sequential(\n",
              "    (0): Conv2d(1, 25, kernel_size=(3, 3), stride=(1, 1), padding=(1, 1))\n",
              "    (1): BatchNorm2d(25, eps=1e-05, momentum=0.1, affine=True, track_running_stats=True)\n",
              "    (2): ReLU()\n",
              "    (3): MaxPool2d(kernel_size=2, stride=2, padding=0, dilation=1, ceil_mode=False)\n",
              "    (4): Conv2d(25, 50, kernel_size=(3, 3), stride=(1, 1), padding=(1, 1))\n",
              "    (5): BatchNorm2d(50, eps=1e-05, momentum=0.1, affine=True, track_running_stats=True)\n",
              "    (6): ReLU()\n",
              "    (7): Dropout(p=0.2, inplace=False)\n",
              "    (8): MaxPool2d(kernel_size=2, stride=2, padding=0, dilation=1, ceil_mode=False)\n",
              "    (9): Conv2d(50, 75, kernel_size=(3, 3), stride=(1, 1), padding=(1, 1))\n",
              "    (10): BatchNorm2d(75, eps=1e-05, momentum=0.1, affine=True, track_running_stats=True)\n",
              "    (11): ReLU()\n",
              "    (12): MaxPool2d(kernel_size=2, stride=2, padding=0, dilation=1, ceil_mode=False)\n",
              "    (13): Flatten(start_dim=1, end_dim=-1)\n",
              "    (14): Linear(in_features=675, out_features=512, bias=True)\n",
              "    (15): ReLU()\n",
              "    (16): Linear(in_features=512, out_features=10, bias=True)\n",
              "  )\n",
              ")"
            ]
          },
          "execution_count": 8,
          "metadata": {},
          "output_type": "execute_result"
        }
      ],
      "source": [
        "model = torch.compile(model.to(device))\n",
        "model"
      ]
    },
    {
      "cell_type": "code",
      "execution_count": null,
      "metadata": {
        "colab": {
          "background_save": true
        },
        "id": "wHVUdh1iXrld"
      },
      "outputs": [],
      "source": [
        "optim = Adam(model.parameters(),lr = 1e-4)\n",
        "loss_function = nn.CrossEntropyLoss()\n"
      ]
    },
    {
      "cell_type": "code",
      "execution_count": null,
      "metadata": {
        "colab": {
          "background_save": true
        },
        "id": "qf2AD3h4X5JJ"
      },
      "outputs": [],
      "source": [
        "def get_batch_accuracy(output, y, N):\n",
        "    pred = output.argmax(dim=1, keepdim=True)\n",
        "    correct = pred.eq(y.view_as(pred)).sum().item()\n",
        "    return correct / N"
      ]
    },
    {
      "cell_type": "code",
      "execution_count": null,
      "metadata": {
        "colab": {
          "background_save": true
        },
        "id": "X4BNU3Z6X71q"
      },
      "outputs": [],
      "source": [
        "def train():\n",
        "  loss = 0\n",
        "  accuracy = 0\n",
        "  model.train()\n",
        "  for x,y in train_loader:\n",
        "    x,y = x.to(device), y.to(device)\n",
        "    output = model(x)\n",
        "    optim.zero_grad()\n",
        "    batch_loss=loss_function(output,y)\n",
        "    batch_loss.backward()\n",
        "    optim.step()\n",
        "    loss+=batch_loss.item()\n",
        "    accuracy+=get_batch_accuracy(output,y,len(train_loader.dataset))\n",
        "  print('FIXME - Loss: {:.4f} Accuracy: {:.4f}'.format(loss, accuracy))\n"
      ]
    },
    {
      "cell_type": "code",
      "execution_count": null,
      "metadata": {
        "colab": {
          "background_save": true
        },
        "id": "kJSd4y9PYhlR"
      },
      "outputs": [],
      "source": [
        "def validate():\n",
        "  loss=0\n",
        "  accuracy=0\n",
        "  model.eval()\n",
        "  with torch.no_grad():\n",
        "    for x,y in valid_loader:\n",
        "      x,y = x.to(device), y.to(device)\n",
        "      out = model(x)\n",
        "      loss+=loss_function(out,y).item()\n",
        "      accuracy+=get_batch_accuracy(out, y, len(valid_loader.dataset))\n",
        "  print('FIXME - Loss: {:.4f} Accuracy: {:.4f}'.format(loss, accuracy))\n"
      ]
    },
    {
      "cell_type": "code",
      "execution_count": null,
      "metadata": {
        "colab": {
          "base_uri": "https://localhost:8080/"
        },
        "id": "ekchQJZbZF9s",
        "outputId": "9793f93d-a052-4276-c9c8-58c5cb3d73d5"
      },
      "outputs": [
        {
          "name": "stdout",
          "output_type": "stream",
          "text": [
            "Epoch: 0\n",
            "FIXME - Loss: 24.0928 Accuracy: 0.9920\n",
            "FIXME - Loss: 4.4582 Accuracy: 0.9910\n",
            "Epoch: 1\n",
            "FIXME - Loss: 20.5697 Accuracy: 0.9936\n",
            "FIXME - Loss: 3.7888 Accuracy: 0.9921\n",
            "Epoch: 2\n",
            "FIXME - Loss: 17.9656 Accuracy: 0.9935\n",
            "FIXME - Loss: 5.7034 Accuracy: 0.9880\n",
            "Epoch: 3\n",
            "FIXME - Loss: 15.4668 Accuracy: 0.9949\n",
            "FIXME - Loss: 3.4700 Accuracy: 0.9929\n",
            "Epoch: 4\n",
            "FIXME - Loss: 13.7231 Accuracy: 0.9953\n",
            "FIXME - Loss: 4.8981 Accuracy: 0.9899\n",
            "Epoch: 5\n",
            "FIXME - Loss: 11.7329 Accuracy: 0.9962\n",
            "FIXME - Loss: 3.7632 Accuracy: 0.9924\n",
            "Epoch: 6\n",
            "FIXME - Loss: 10.1621 Accuracy: 0.9966\n",
            "FIXME - Loss: 4.3483 Accuracy: 0.9914\n",
            "Epoch: 7\n",
            "FIXME - Loss: 9.4372 Accuracy: 0.9967\n",
            "FIXME - Loss: 3.9389 Accuracy: 0.9923\n",
            "Epoch: 8\n",
            "FIXME - Loss: 8.1703 Accuracy: 0.9972\n",
            "FIXME - Loss: 3.5265 Accuracy: 0.9927\n",
            "Epoch: 9\n",
            "FIXME - Loss: 8.0703 Accuracy: 0.9972\n",
            "FIXME - Loss: 3.4963 Accuracy: 0.9929\n",
            "Epoch: 10\n",
            "FIXME - Loss: 7.0833 Accuracy: 0.9976\n",
            "FIXME - Loss: 3.4840 Accuracy: 0.9926\n",
            "Epoch: 11\n",
            "FIXME - Loss: 6.2398 Accuracy: 0.9979\n",
            "FIXME - Loss: 3.6181 Accuracy: 0.9923\n",
            "Epoch: 12\n",
            "FIXME - Loss: 5.8999 Accuracy: 0.9979\n",
            "FIXME - Loss: 4.6143 Accuracy: 0.9903\n",
            "Epoch: 13\n",
            "FIXME - Loss: 5.4620 Accuracy: 0.9982\n",
            "FIXME - Loss: 3.5046 Accuracy: 0.9924\n",
            "Epoch: 14\n",
            "FIXME - Loss: 4.5459 Accuracy: 0.9984\n",
            "FIXME - Loss: 3.7715 Accuracy: 0.9926\n",
            "Epoch: 15\n",
            "FIXME - Loss: 4.8771 Accuracy: 0.9982\n",
            "FIXME - Loss: 4.9795 Accuracy: 0.9906\n",
            "Epoch: 16\n",
            "FIXME - Loss: 4.1205 Accuracy: 0.9985\n",
            "FIXME - Loss: 3.8271 Accuracy: 0.9932\n",
            "Epoch: 17\n",
            "FIXME - Loss: 3.9241 Accuracy: 0.9986\n",
            "FIXME - Loss: 3.5727 Accuracy: 0.9937\n",
            "Epoch: 18\n",
            "FIXME - Loss: 3.0670 Accuracy: 0.9990\n",
            "FIXME - Loss: 5.3551 Accuracy: 0.9903\n",
            "Epoch: 19\n",
            "FIXME - Loss: 4.0737 Accuracy: 0.9986\n",
            "FIXME - Loss: 4.5920 Accuracy: 0.9923\n"
          ]
        }
      ],
      "source": [
        "epochs = 20\n",
        "for epoch in range (epochs):\n",
        "  print('Epoch: {}'.format(epoch))\n",
        "  train()\n",
        "  validate()"
      ]
    }
  ],
  "metadata": {
    "colab": {
      "provenance": [],
      "authorship_tag": "ABX9TyMWGpDxKUCNTyYJyCklKK98",
      "include_colab_link": true
    },
    "kernelspec": {
      "display_name": "Python 3",
      "name": "python3"
    },
    "language_info": {
      "name": "python"
    }
  },
  "nbformat": 4,
  "nbformat_minor": 0
}